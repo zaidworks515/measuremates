{
 "cells": [
  {
   "cell_type": "markdown",
   "id": "2928e77c",
   "metadata": {},
   "source": [
    "# BULK IMAGES TEST "
   ]
  },
  {
   "cell_type": "code",
   "execution_count": 1,
   "id": "a8d30bb1",
   "metadata": {},
   "outputs": [
    {
     "name": "stdout",
     "output_type": "stream",
     "text": [
      "['.picasa.ini', 'buffalo.jpg', 'cat.jpg', 'cow1.jpg', 'cow10.jpg', 'cow11.jpg', 'cow12.jpg', 'cow13.jpg', 'cow2.jpg', 'cow3.jpg', 'cow4.jpg', 'cow5.jpg', 'cow6.jpg', 'cow7.jpg', 'cow8.jpg', 'cow9.jpg', 'dog.jpg', 'donkey.jpg', 'donkey2.jpg', 'example photo.jpg', 'example2.jpg', 'example3.jpg', 'example4.jpg', 'example5.jpg', 'example6.jpg', 'goat.jpg', 'horse.jpg', 'horse2.jpeg', 'horse3.jpg', 'horse4.jpg', 'sa1.jpg', 'sa2.jpg', 'sheep.jpg', 'zaid1.jpg', 'zaid2.jpg']\n"
     ]
    }
   ],
   "source": [
    "import os\n",
    "\n",
    "folder_path = \"test dataset/\"\n",
    "\n",
    "files = os.listdir(folder_path)\n",
    "\n",
    "file_names = [] \n",
    "\n",
    "for file_name in files: \n",
    "    if os.path.isfile(os.path.join(folder_path, file_name)):\n",
    "        file_names.append(file_name)\n",
    "\n",
    "print(file_names)\n"
   ]
  },
  {
   "cell_type": "code",
   "execution_count": 2,
   "id": "f8d816bf",
   "metadata": {},
   "outputs": [],
   "source": [
    "file_names.remove('.picasa.ini')"
   ]
  },
  {
   "cell_type": "code",
   "execution_count": 3,
   "id": "693ce530",
   "metadata": {},
   "outputs": [
    {
     "data": {
      "text/plain": [
       "['test dataset/buffalo.jpg',\n",
       " 'test dataset/cat.jpg',\n",
       " 'test dataset/cow1.jpg',\n",
       " 'test dataset/cow10.jpg',\n",
       " 'test dataset/cow11.jpg',\n",
       " 'test dataset/cow12.jpg',\n",
       " 'test dataset/cow13.jpg',\n",
       " 'test dataset/cow2.jpg',\n",
       " 'test dataset/cow3.jpg',\n",
       " 'test dataset/cow4.jpg',\n",
       " 'test dataset/cow5.jpg',\n",
       " 'test dataset/cow6.jpg',\n",
       " 'test dataset/cow7.jpg',\n",
       " 'test dataset/cow8.jpg',\n",
       " 'test dataset/cow9.jpg',\n",
       " 'test dataset/dog.jpg',\n",
       " 'test dataset/donkey.jpg',\n",
       " 'test dataset/donkey2.jpg',\n",
       " 'test dataset/example photo.jpg',\n",
       " 'test dataset/example2.jpg',\n",
       " 'test dataset/example3.jpg',\n",
       " 'test dataset/example4.jpg',\n",
       " 'test dataset/example5.jpg',\n",
       " 'test dataset/example6.jpg',\n",
       " 'test dataset/goat.jpg',\n",
       " 'test dataset/horse.jpg',\n",
       " 'test dataset/horse2.jpeg',\n",
       " 'test dataset/horse3.jpg',\n",
       " 'test dataset/horse4.jpg',\n",
       " 'test dataset/sa1.jpg',\n",
       " 'test dataset/sa2.jpg',\n",
       " 'test dataset/sheep.jpg',\n",
       " 'test dataset/zaid1.jpg',\n",
       " 'test dataset/zaid2.jpg']"
      ]
     },
     "execution_count": 3,
     "metadata": {},
     "output_type": "execute_result"
    }
   ],
   "source": [
    "updated_path=[]\n",
    "\n",
    "for f in file_names:\n",
    "    path = os.path.join(folder_path, f)   #folder path is initialized above\n",
    "    updated_path.append(path)\n",
    "updated_path   "
   ]
  },
  {
   "cell_type": "markdown",
   "id": "b426846e",
   "metadata": {},
   "source": [
    "# Combined prediction"
   ]
  },
  {
   "cell_type": "code",
   "execution_count": 13,
   "id": "14aa085e",
   "metadata": {
    "scrolled": true
   },
   "outputs": [
    {
     "name": "stdout",
     "output_type": "stream",
     "text": [
      "\n",
      "0: 640x640 (no detections), 1: 640x640 1 other, 2: 640x640 1 cow, 3: 640x640 1 cow, 4: 640x640 1 cow, 5: 640x640 (no detections), 6: 640x640 1 other, 7: 640x640 1 cow, 8: 640x640 1 cow, 9: 640x640 1 other, 10: 640x640 1 cow, 11: 640x640 1 cow, 12: 640x640 1 cow, 13: 640x640 1 cow, 14: 640x640 (no detections), 15: 640x640 1 other, 16: 640x640 1 other, 17: 640x640 1 other, 18: 640x640 1 cow, 19: 640x640 1 cow, 20: 640x640 1 cow, 21: 640x640 1 cow, 22: 640x640 1 cow, 23: 640x640 1 cow, 24: 640x640 1 other, 25: 640x640 1 other, 26: 640x640 1 other, 27: 640x640 (no detections), 28: 640x640 1 other, 29: 640x640 (no detections), 30: 640x640 1 other, 31: 640x640 (no detections), 32: 640x640 (no detections), 33: 640x640 (no detections), 52759.3ms\n",
      "Speed: 6.4ms preprocess, 1551.7ms inference, 1.4ms postprocess per image at shape (1, 3, 640, 640)\n",
      "Results saved to \u001b[1mruns\\pose\\predict\u001b[0m\n"
     ]
    }
   ],
   "source": [
    "import cv2\n",
    "from ultralytics import YOLO\n",
    "\n",
    "model=YOLO('../static/model/best_pose_model.pt')\n",
    "results=model(source=updated_path, conf=0.75, save=True)"
   ]
  },
  {
   "cell_type": "markdown",
   "id": "698c5bfc",
   "metadata": {},
   "source": [
    "# Saved results could be seen from the directory where it is saved"
   ]
  },
  {
   "cell_type": "code",
   "execution_count": null,
   "id": "fe8aa84d",
   "metadata": {},
   "outputs": [],
   "source": []
  }
 ],
 "metadata": {
  "kernelspec": {
   "display_name": "Python [conda env:python310]",
   "language": "python",
   "name": "conda-env-python310-py"
  },
  "language_info": {
   "codemirror_mode": {
    "name": "ipython",
    "version": 3
   },
   "file_extension": ".py",
   "mimetype": "text/x-python",
   "name": "python",
   "nbconvert_exporter": "python",
   "pygments_lexer": "ipython3",
   "version": "3.10.12"
  }
 },
 "nbformat": 4,
 "nbformat_minor": 5
}
